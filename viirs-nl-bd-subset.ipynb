{
 "cells": [
  {
   "cell_type": "markdown",
   "id": "f5095864",
   "metadata": {},
   "source": [
    "**THIS NOTEBOOK USES THE R PROGRAMMING LANGUAGE**"
   ]
  },
  {
   "cell_type": "code",
   "execution_count": 1,
   "id": "34ac5a9c",
   "metadata": {
    "_execution_state": "idle",
    "_uuid": "051d70d956493feee0c6d64651c6a088724dca2a",
    "execution": {
     "iopub.execute_input": "2023-12-27T16:33:32.152957Z",
     "iopub.status.busy": "2023-12-27T16:33:32.150531Z",
     "iopub.status.idle": "2023-12-27T16:33:37.945194Z",
     "shell.execute_reply": "2023-12-27T16:33:37.942867Z"
    },
    "papermill": {
     "duration": 5.809067,
     "end_time": "2023-12-27T16:33:37.948387",
     "exception": false,
     "start_time": "2023-12-27T16:33:32.139320",
     "status": "completed"
    },
    "tags": [],
    "vscode": {
     "languageId": "r"
    }
   },
   "outputs": [
    {
     "name": "stderr",
     "output_type": "stream",
     "text": [
      "Linking to GEOS 3.8.0, GDAL 3.0.4, PROJ 6.3.1; sf_use_s2() is TRUE\n",
      "\n",
      "terra 1.7.55\n",
      "\n"
     ]
    }
   ],
   "source": [
    "# NOTE: NEED TO INSTALL THE FOLLOWING R PACKAGES\n",
    "library(sf)\n",
    "library(terra)"
   ]
  },
  {
   "cell_type": "markdown",
   "id": "e9865d32",
   "metadata": {
    "papermill": {
     "duration": 0.007628,
     "end_time": "2023-12-27T16:33:37.964864",
     "exception": false,
     "start_time": "2023-12-27T16:33:37.957236",
     "status": "completed"
    },
    "tags": []
   },
   "source": [
    "# 2022 data"
   ]
  },
  {
   "cell_type": "markdown",
   "id": "d2b6ce7a",
   "metadata": {
    "papermill": {
     "duration": 0.007652,
     "end_time": "2023-12-27T16:33:37.980028",
     "exception": false,
     "start_time": "2023-12-27T16:33:37.972376",
     "status": "completed"
    },
    "tags": []
   },
   "source": [
    "## Downlaod, decompress and load VIIRS data:"
   ]
  },
  {
   "cell_type": "code",
   "execution_count": 2,
   "id": "b43fd4c8",
   "metadata": {
    "execution": {
     "iopub.execute_input": "2023-12-27T16:33:38.052488Z",
     "iopub.status.busy": "2023-12-27T16:33:37.997740Z",
     "iopub.status.idle": "2023-12-27T16:35:30.572206Z",
     "shell.execute_reply": "2023-12-27T16:35:30.569724Z"
    },
    "papermill": {
     "duration": 112.591415,
     "end_time": "2023-12-27T16:35:30.578874",
     "exception": false,
     "start_time": "2023-12-27T16:33:37.987459",
     "status": "completed"
    },
    "tags": [],
    "vscode": {
     "languageId": "r"
    }
   },
   "outputs": [],
   "source": [
    "data22_url <- \"https://eogdata.mines.edu/nighttime_light/annual/v22/2022/VNL_v22_npp-j01_2022_global_vcmslcfg_c202303062300.average_masked.dat.tif.gz\"\n",
    "\n",
    "download.file(\n",
    "    url = data22_url, \n",
    "    destfile = \"viirs22.tif.gz\", \n",
    "    method = \"auto\"\n",
    ")\n",
    "\n",
    "R.utils::gunzip(\"/kaggle/working/viirs22.tif.gz\", remove = FALSE)    # extract"
   ]
  },
  {
   "cell_type": "code",
   "execution_count": 3,
   "id": "aec40f44",
   "metadata": {
    "execution": {
     "iopub.execute_input": "2023-12-27T16:35:30.604795Z",
     "iopub.status.busy": "2023-12-27T16:35:30.602893Z",
     "iopub.status.idle": "2023-12-27T16:35:30.715786Z",
     "shell.execute_reply": "2023-12-27T16:35:30.713481Z"
    },
    "papermill": {
     "duration": 0.128682,
     "end_time": "2023-12-27T16:35:30.719559",
     "exception": false,
     "start_time": "2023-12-27T16:35:30.590877",
     "status": "completed"
    },
    "tags": [],
    "vscode": {
     "languageId": "r"
    }
   },
   "outputs": [],
   "source": [
    "viirs_22 <- rast(\"./viirs22.tif\")    # load"
   ]
  },
  {
   "cell_type": "markdown",
   "id": "6507b756",
   "metadata": {
    "papermill": {
     "duration": 0.007573,
     "end_time": "2023-12-27T16:35:30.734634",
     "exception": false,
     "start_time": "2023-12-27T16:35:30.727061",
     "status": "completed"
    },
    "tags": []
   },
   "source": [
    "## Download, extract and load shapefile of Bangladesh:"
   ]
  },
  {
   "cell_type": "code",
   "execution_count": 4,
   "id": "36c8ba56",
   "metadata": {
    "execution": {
     "iopub.execute_input": "2023-12-27T16:35:30.753957Z",
     "iopub.status.busy": "2023-12-27T16:35:30.752076Z",
     "iopub.status.idle": "2023-12-27T16:35:40.080806Z",
     "shell.execute_reply": "2023-12-27T16:35:40.078650Z"
    },
    "papermill": {
     "duration": 9.342208,
     "end_time": "2023-12-27T16:35:40.084350",
     "exception": false,
     "start_time": "2023-12-27T16:35:30.742142",
     "status": "completed"
    },
    "tags": [],
    "vscode": {
     "languageId": "r"
    }
   },
   "outputs": [
    {
     "data": {
      "text/html": [
       "TRUE"
      ],
      "text/latex": [
       "TRUE"
      ],
      "text/markdown": [
       "TRUE"
      ],
      "text/plain": [
       "[1] TRUE"
      ]
     },
     "metadata": {},
     "output_type": "display_data"
    }
   ],
   "source": [
    "shapeurl <- \"https://geodata.ucdavis.edu/gadm/gadm4.1/shp/gadm41_BGD_shp.zip\"\n",
    "\n",
    "download.file(\n",
    "    url = shapeurl, \n",
    "    destfile = \"gadm41_BGD_shp.zip\", \n",
    "    method = \"auto\"\n",
    ")\n",
    "\n",
    "unzip(\n",
    "    zipfile = \"/kaggle/working/gadm41_BGD_shp.zip\",\n",
    "    exdir = \"/kaggle/working/bd_shp/\"\n",
    ")\n",
    "\n",
    "# delete the downloaded zip file\n",
    "file.remove(\"/kaggle/working/gadm41_BGD_shp.zip\")"
   ]
  },
  {
   "cell_type": "code",
   "execution_count": 5,
   "id": "49f69d2e",
   "metadata": {
    "execution": {
     "iopub.execute_input": "2023-12-27T16:35:41.837655Z",
     "iopub.status.busy": "2023-12-27T16:35:41.834123Z",
     "iopub.status.idle": "2023-12-27T16:35:42.011774Z",
     "shell.execute_reply": "2023-12-27T16:35:42.009430Z"
    },
    "papermill": {
     "duration": 0.245525,
     "end_time": "2023-12-27T16:35:42.015816",
     "exception": false,
     "start_time": "2023-12-27T16:35:41.770291",
     "status": "completed"
    },
    "tags": [],
    "vscode": {
     "languageId": "r"
    }
   },
   "outputs": [
    {
     "name": "stdout",
     "output_type": "stream",
     "text": [
      "Reading layer `gadm41_BGD_2' from data source \n",
      "  `/kaggle/working/bd_shp/gadm41_BGD_2.shp' using driver `ESRI Shapefile'\n",
      "Simple feature collection with 64 features and 13 fields\n",
      "Geometry type: MULTIPOLYGON\n",
      "Dimension:     XY\n",
      "Bounding box:  xmin: 88.01057 ymin: 20.74111 xmax: 92.67366 ymax: 26.63407\n",
      "Geodetic CRS:  WGS 84\n"
     ]
    }
   ],
   "source": [
    "bd_dists <- st_read(\"/kaggle/working/bd_shp/gadm41_BGD_2.shp\")    # loading the level-2 data (district level)\n",
    "# this referes to administrative levels\n",
    "# National (level 0), State/province/equivalent (level 1), \n",
    "# County/district/equivalent (level 2), \n",
    "# Commune/municipality/equivalent (level 3) and smaller Levels 4 and 5"
   ]
  },
  {
   "cell_type": "markdown",
   "id": "e93d812b",
   "metadata": {
    "papermill": {
     "duration": 0.008223,
     "end_time": "2023-12-27T16:35:42.033021",
     "exception": false,
     "start_time": "2023-12-27T16:35:42.024798",
     "status": "completed"
    },
    "tags": []
   },
   "source": [
    "## Create subset of nightlight data of BD only and save it:"
   ]
  },
  {
   "cell_type": "code",
   "execution_count": 6,
   "id": "5b7a73db",
   "metadata": {
    "execution": {
     "iopub.execute_input": "2023-12-27T16:35:42.053664Z",
     "iopub.status.busy": "2023-12-27T16:35:42.051577Z",
     "iopub.status.idle": "2023-12-27T16:35:43.046507Z",
     "shell.execute_reply": "2023-12-27T16:35:43.043859Z"
    },
    "papermill": {
     "duration": 1.009135,
     "end_time": "2023-12-27T16:35:43.050056",
     "exception": false,
     "start_time": "2023-12-27T16:35:42.040921",
     "status": "completed"
    },
    "tags": [],
    "vscode": {
     "languageId": "r"
    }
   },
   "outputs": [
    {
     "data": {
      "text/plain": [
       "class       : SpatRaster \n",
       "dimensions  : 1415, 1119, 1  (nrow, ncol, nlyr)\n",
       "resolution  : 0.004166667, 0.004166667  (x, y)\n",
       "extent      : 88.01042, 92.67292, 20.73958, 26.63542  (xmin, xmax, ymin, ymax)\n",
       "coord. ref. : lon/lat WGS 84 (EPSG:4326) \n",
       "source(s)   : memory\n",
       "varname     : viirs22 \n",
       "name        :  viirs22 \n",
       "min value   :   0.0000 \n",
       "max value   : 273.3615 "
      ]
     },
     "metadata": {},
     "output_type": "display_data"
    }
   ],
   "source": [
    "(viirs_bd_22 <- crop(viirs_22, bd_dists))"
   ]
  },
  {
   "cell_type": "code",
   "execution_count": 7,
   "id": "cf3622dc",
   "metadata": {
    "execution": {
     "iopub.execute_input": "2023-12-27T16:35:43.071112Z",
     "iopub.status.busy": "2023-12-27T16:35:43.069274Z",
     "iopub.status.idle": "2023-12-27T16:35:43.211096Z",
     "shell.execute_reply": "2023-12-27T16:35:43.208941Z"
    },
    "papermill": {
     "duration": 0.156913,
     "end_time": "2023-12-27T16:35:43.215027",
     "exception": false,
     "start_time": "2023-12-27T16:35:43.058114",
     "status": "completed"
    },
    "tags": [],
    "vscode": {
     "languageId": "r"
    }
   },
   "outputs": [],
   "source": [
    "writeRaster(\n",
    "    viirs_bd_22, \n",
    "    filename = \"/kaggle/working/viirs_bd_2022.tif\"\n",
    ")"
   ]
  },
  {
   "cell_type": "code",
   "execution_count": 8,
   "id": "1ee8bce7",
   "metadata": {
    "execution": {
     "iopub.execute_input": "2023-12-27T16:35:43.235973Z",
     "iopub.status.busy": "2023-12-27T16:35:43.234136Z",
     "iopub.status.idle": "2023-12-27T16:35:46.714623Z",
     "shell.execute_reply": "2023-12-27T16:35:46.712633Z"
    },
    "papermill": {
     "duration": 3.493844,
     "end_time": "2023-12-27T16:35:46.717393",
     "exception": false,
     "start_time": "2023-12-27T16:35:43.223549",
     "status": "completed"
    },
    "tags": [],
    "vscode": {
     "languageId": "r"
    }
   },
   "outputs": [
    {
     "data": {
      "text/plain": [
       "class       : SpatRaster \n",
       "dimensions  : 1415, 1119, 1  (nrow, ncol, nlyr)\n",
       "resolution  : 0.004166667, 0.004166667  (x, y)\n",
       "extent      : 88.01042, 92.67292, 20.73958, 26.63542  (xmin, xmax, ymin, ymax)\n",
       "coord. ref. : lon/lat WGS 84 (EPSG:4326) \n",
       "source(s)   : memory\n",
       "varname     : viirs22 \n",
       "name        : viirs22 \n",
       "min value   :   0.000 \n",
       "max value   : 152.389 "
      ]
     },
     "metadata": {},
     "output_type": "display_data"
    }
   ],
   "source": [
    "(viirs_bd_22_masked <- crop(viirs_22, bd_dists, mask = TRUE))"
   ]
  },
  {
   "cell_type": "code",
   "execution_count": 9,
   "id": "e4467151",
   "metadata": {
    "execution": {
     "iopub.execute_input": "2023-12-27T16:35:46.738551Z",
     "iopub.status.busy": "2023-12-27T16:35:46.736590Z",
     "iopub.status.idle": "2023-12-27T16:35:46.836129Z",
     "shell.execute_reply": "2023-12-27T16:35:46.833908Z"
    },
    "papermill": {
     "duration": 0.1132,
     "end_time": "2023-12-27T16:35:46.839092",
     "exception": false,
     "start_time": "2023-12-27T16:35:46.725892",
     "status": "completed"
    },
    "tags": [],
    "vscode": {
     "languageId": "r"
    }
   },
   "outputs": [],
   "source": [
    "writeRaster(\n",
    "    viirs_bd_22_masked, \n",
    "    filename = \"/kaggle/working/viirs_bd_2022_masked.tif\"\n",
    ")"
   ]
  },
  {
   "cell_type": "code",
   "execution_count": 10,
   "id": "6164688f",
   "metadata": {
    "execution": {
     "iopub.execute_input": "2023-12-27T16:35:46.859902Z",
     "iopub.status.busy": "2023-12-27T16:35:46.858083Z",
     "iopub.status.idle": "2023-12-27T16:35:48.419781Z",
     "shell.execute_reply": "2023-12-27T16:35:48.417739Z"
    },
    "papermill": {
     "duration": 1.575288,
     "end_time": "2023-12-27T16:35:48.422626",
     "exception": false,
     "start_time": "2023-12-27T16:35:46.847338",
     "status": "completed"
    },
    "tags": [],
    "vscode": {
     "languageId": "r"
    }
   },
   "outputs": [
    {
     "data": {
      "text/html": [
       "TRUE"
      ],
      "text/latex": [
       "TRUE"
      ],
      "text/markdown": [
       "TRUE"
      ],
      "text/plain": [
       "[1] TRUE"
      ]
     },
     "metadata": {},
     "output_type": "display_data"
    },
    {
     "data": {
      "text/html": [
       "TRUE"
      ],
      "text/latex": [
       "TRUE"
      ],
      "text/markdown": [
       "TRUE"
      ],
      "text/plain": [
       "[1] TRUE"
      ]
     },
     "metadata": {},
     "output_type": "display_data"
    }
   ],
   "source": [
    "# Delete the original tif file\n",
    "file.remove(\"./viirs22.tif\")\n",
    "file.remove(\"./viirs22.tif.gz\")"
   ]
  },
  {
   "cell_type": "markdown",
   "id": "c05823d2",
   "metadata": {
    "papermill": {
     "duration": 0.00859,
     "end_time": "2023-12-27T16:35:48.441543",
     "exception": false,
     "start_time": "2023-12-27T16:35:48.432953",
     "status": "completed"
    },
    "tags": []
   },
   "source": [
    "# Repeat the same process for 2012 data"
   ]
  },
  {
   "cell_type": "code",
   "execution_count": 11,
   "id": "89a16356",
   "metadata": {
    "execution": {
     "iopub.execute_input": "2023-12-27T16:35:48.463236Z",
     "iopub.status.busy": "2023-12-27T16:35:48.461127Z",
     "iopub.status.idle": "2023-12-27T16:37:02.833718Z",
     "shell.execute_reply": "2023-12-27T16:37:02.831561Z"
    },
    "papermill": {
     "duration": 74.386457,
     "end_time": "2023-12-27T16:37:02.836495",
     "exception": false,
     "start_time": "2023-12-27T16:35:48.450038",
     "status": "completed"
    },
    "tags": [],
    "vscode": {
     "languageId": "r"
    }
   },
   "outputs": [],
   "source": [
    "data12_url <- \"https://eogdata.mines.edu/nighttime_light/annual/v21/2012/VNL_v21_npp_201204-201212_global_vcmcfg_c202205302300.average_masked.dat.tif.gz\"\n",
    "\n",
    "download.file(\n",
    "    url = data12_url, \n",
    "    destfile = \"viirs12.tif.gz\", \n",
    "    method = \"auto\"\n",
    ")\n",
    "\n",
    "R.utils::gunzip(\"/kaggle/working/viirs12.tif.gz\", remove = FALSE)    # extract"
   ]
  },
  {
   "cell_type": "code",
   "execution_count": 12,
   "id": "856cb4e1",
   "metadata": {
    "execution": {
     "iopub.execute_input": "2023-12-27T16:37:03.796421Z",
     "iopub.status.busy": "2023-12-27T16:37:03.792803Z",
     "iopub.status.idle": "2023-12-27T16:37:03.817453Z",
     "shell.execute_reply": "2023-12-27T16:37:03.815171Z"
    },
    "papermill": {
     "duration": 0.043393,
     "end_time": "2023-12-27T16:37:03.821146",
     "exception": false,
     "start_time": "2023-12-27T16:37:03.777753",
     "status": "completed"
    },
    "tags": [],
    "vscode": {
     "languageId": "r"
    }
   },
   "outputs": [],
   "source": [
    "viirs_12 <- rast(\"./viirs12.tif\")    # load"
   ]
  },
  {
   "cell_type": "markdown",
   "id": "d6eb8b42",
   "metadata": {
    "papermill": {
     "duration": 0.068685,
     "end_time": "2023-12-27T16:37:03.905742",
     "exception": false,
     "start_time": "2023-12-27T16:37:03.837057",
     "status": "completed"
    },
    "tags": []
   },
   "source": [
    "## Subset and write"
   ]
  },
  {
   "cell_type": "code",
   "execution_count": 13,
   "id": "cc48bd62",
   "metadata": {
    "execution": {
     "iopub.execute_input": "2023-12-27T16:37:04.069756Z",
     "iopub.status.busy": "2023-12-27T16:37:04.064667Z",
     "iopub.status.idle": "2023-12-27T16:37:04.783637Z",
     "shell.execute_reply": "2023-12-27T16:37:04.781558Z"
    },
    "papermill": {
     "duration": 0.811106,
     "end_time": "2023-12-27T16:37:04.788464",
     "exception": false,
     "start_time": "2023-12-27T16:37:03.977358",
     "status": "completed"
    },
    "tags": [],
    "vscode": {
     "languageId": "r"
    }
   },
   "outputs": [
    {
     "data": {
      "text/plain": [
       "class       : SpatRaster \n",
       "dimensions  : 1415, 1119, 1  (nrow, ncol, nlyr)\n",
       "resolution  : 0.004166667, 0.004166667  (x, y)\n",
       "extent      : 88.01042, 92.67292, 20.73958, 26.63542  (xmin, xmax, ymin, ymax)\n",
       "coord. ref. : lon/lat WGS 84 (EPSG:4326) \n",
       "source(s)   : memory\n",
       "varname     : viirs12 \n",
       "name        :      viirs12 \n",
       "min value   :  -0.05301405 \n",
       "max value   : 446.39205933 "
      ]
     },
     "metadata": {},
     "output_type": "display_data"
    }
   ],
   "source": [
    "(viirs_bd_12 <- crop(viirs_12, bd_dists))"
   ]
  },
  {
   "cell_type": "code",
   "execution_count": 14,
   "id": "b70e4eb0",
   "metadata": {
    "execution": {
     "iopub.execute_input": "2023-12-27T16:37:04.859066Z",
     "iopub.status.busy": "2023-12-27T16:37:04.855481Z",
     "iopub.status.idle": "2023-12-27T16:37:04.959936Z",
     "shell.execute_reply": "2023-12-27T16:37:04.957370Z"
    },
    "papermill": {
     "duration": 0.156638,
     "end_time": "2023-12-27T16:37:04.963719",
     "exception": false,
     "start_time": "2023-12-27T16:37:04.807081",
     "status": "completed"
    },
    "tags": [],
    "vscode": {
     "languageId": "r"
    }
   },
   "outputs": [],
   "source": [
    "writeRaster(\n",
    "    viirs_bd_12, \n",
    "    filename = \"/kaggle/working/viirs_bd_2012.tif\"\n",
    ")"
   ]
  },
  {
   "cell_type": "code",
   "execution_count": 15,
   "id": "38dffe3d",
   "metadata": {
    "execution": {
     "iopub.execute_input": "2023-12-27T16:37:05.021641Z",
     "iopub.status.busy": "2023-12-27T16:37:05.019175Z",
     "iopub.status.idle": "2023-12-27T16:37:08.205871Z",
     "shell.execute_reply": "2023-12-27T16:37:08.203132Z"
    },
    "papermill": {
     "duration": 3.236007,
     "end_time": "2023-12-27T16:37:08.208631",
     "exception": false,
     "start_time": "2023-12-27T16:37:04.972624",
     "status": "completed"
    },
    "tags": [],
    "vscode": {
     "languageId": "r"
    }
   },
   "outputs": [
    {
     "data": {
      "text/plain": [
       "class       : SpatRaster \n",
       "dimensions  : 1415, 1119, 1  (nrow, ncol, nlyr)\n",
       "resolution  : 0.004166667, 0.004166667  (x, y)\n",
       "extent      : 88.01042, 92.67292, 20.73958, 26.63542  (xmin, xmax, ymin, ymax)\n",
       "coord. ref. : lon/lat WGS 84 (EPSG:4326) \n",
       "source(s)   : memory\n",
       "varname     : viirs12 \n",
       "name        :      viirs12 \n",
       "min value   :  -0.05301405 \n",
       "max value   : 157.80833435 "
      ]
     },
     "metadata": {},
     "output_type": "display_data"
    }
   ],
   "source": [
    "(viirs_bd_12_masked <- crop(viirs_12, bd_dists, mask = TRUE))"
   ]
  },
  {
   "cell_type": "code",
   "execution_count": 16,
   "id": "b17f2aae",
   "metadata": {
    "execution": {
     "iopub.execute_input": "2023-12-27T16:37:13.404443Z",
     "iopub.status.busy": "2023-12-27T16:37:13.398790Z",
     "iopub.status.idle": "2023-12-27T16:37:13.495255Z",
     "shell.execute_reply": "2023-12-27T16:37:13.492749Z"
    },
    "papermill": {
     "duration": 0.145657,
     "end_time": "2023-12-27T16:37:13.499005",
     "exception": false,
     "start_time": "2023-12-27T16:37:13.353348",
     "status": "completed"
    },
    "tags": [],
    "vscode": {
     "languageId": "r"
    }
   },
   "outputs": [],
   "source": [
    "writeRaster(\n",
    "    viirs_bd_12_masked, \n",
    "    filename = \"/kaggle/working/viirs_bd_2012_masked.tif\"\n",
    ")"
   ]
  },
  {
   "cell_type": "code",
   "execution_count": 17,
   "id": "d3614efa",
   "metadata": {
    "execution": {
     "iopub.execute_input": "2023-12-27T16:37:13.665328Z",
     "iopub.status.busy": "2023-12-27T16:37:13.663277Z",
     "iopub.status.idle": "2023-12-27T16:37:15.810630Z",
     "shell.execute_reply": "2023-12-27T16:37:15.808557Z"
    },
    "papermill": {
     "duration": 2.188556,
     "end_time": "2023-12-27T16:37:15.813422",
     "exception": false,
     "start_time": "2023-12-27T16:37:13.624866",
     "status": "completed"
    },
    "tags": [],
    "vscode": {
     "languageId": "r"
    }
   },
   "outputs": [
    {
     "data": {
      "text/html": [
       "TRUE"
      ],
      "text/latex": [
       "TRUE"
      ],
      "text/markdown": [
       "TRUE"
      ],
      "text/plain": [
       "[1] TRUE"
      ]
     },
     "metadata": {},
     "output_type": "display_data"
    },
    {
     "data": {
      "text/html": [
       "TRUE"
      ],
      "text/latex": [
       "TRUE"
      ],
      "text/markdown": [
       "TRUE"
      ],
      "text/plain": [
       "[1] TRUE"
      ]
     },
     "metadata": {},
     "output_type": "display_data"
    }
   ],
   "source": [
    "# Delete the original tif file\n",
    "file.remove(\"./viirs12.tif\")\n",
    "file.remove(\"./viirs12.tif.gz\")"
   ]
  },
  {
   "cell_type": "code",
   "execution_count": 18,
   "id": "183e8a14",
   "metadata": {
    "execution": {
     "iopub.execute_input": "2023-12-27T16:37:15.837159Z",
     "iopub.status.busy": "2023-12-27T16:37:15.835194Z",
     "iopub.status.idle": "2023-12-27T16:37:15.886070Z",
     "shell.execute_reply": "2023-12-27T16:37:15.883792Z"
    },
    "papermill": {
     "duration": 0.06574,
     "end_time": "2023-12-27T16:37:15.888905",
     "exception": false,
     "start_time": "2023-12-27T16:37:15.823165",
     "status": "completed"
    },
    "tags": [],
    "vscode": {
     "languageId": "r"
    }
   },
   "outputs": [],
   "source": [
    "# delete the extracted shape files\n",
    "unlink(\"/kaggle/working/bd_shp\", recursive = TRUE)"
   ]
  }
 ],
 "metadata": {
  "kaggle": {
   "accelerator": "none",
   "dataSources": [],
   "dockerImageVersionId": 30618,
   "isGpuEnabled": false,
   "isInternetEnabled": true,
   "language": "r",
   "sourceType": "notebook"
  },
  "kernelspec": {
   "display_name": "R",
   "language": "R",
   "name": "ir"
  },
  "language_info": {
   "codemirror_mode": "r",
   "file_extension": ".r",
   "mimetype": "text/x-r-source",
   "name": "R",
   "pygments_lexer": "r",
   "version": "4.0.5"
  },
  "papermill": {
   "default_parameters": {},
   "duration": 227.908863,
   "end_time": "2023-12-27T16:37:16.123929",
   "environment_variables": {},
   "exception": null,
   "input_path": "__notebook__.ipynb",
   "output_path": "__notebook__.ipynb",
   "parameters": {},
   "start_time": "2023-12-27T16:33:28.215066",
   "version": "2.5.0"
  }
 },
 "nbformat": 4,
 "nbformat_minor": 5
}
